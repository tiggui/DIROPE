{
 "cells": [
  {
   "cell_type": "code",
   "execution_count": 5,
   "id": "280c3318",
   "metadata": {},
   "outputs": [
    {
     "name": "stdout",
     "output_type": "stream",
     "text": [
      "Index(['Ref', 'Status', 'Location', 'Description', 'Created', 'Target', 'Type',\n",
      "       'To Package', 'Status Changed', 'Association', 'OverDue', 'Images',\n",
      "       'Comments', 'Documents', 'Priority', 'Cause', 'project',\n",
      "       'Report Status', 'Task Group'],\n",
      "      dtype='object')\n"
     ]
    }
   ],
   "source": [
    "import pandas as pd\n",
    "\n",
    "# Reemplaza con la ruta donde está tu archivo, si no está en el mismo directorio\n",
    "archivo_csv = 'Construction_Data_PM_Tasks_All_Projects.csv'\n",
    "\n",
    "# Leer el CSV\n",
    "df = pd.read_csv(archivo_csv)\n",
    "\n",
    "# Mostrar las primeras filas del DataFrame\n",
    "print(df.columns)\n"
   ]
  },
  {
   "cell_type": "code",
   "execution_count": 8,
   "id": "df03d659",
   "metadata": {},
   "outputs": [
    {
     "name": "stdout",
     "output_type": "stream",
     "text": [
      "<class 'pandas.core.frame.DataFrame'>\n",
      "RangeIndex: 12424 entries, 0 to 12423\n",
      "Data columns (total 19 columns):\n",
      " #   Column          Non-Null Count  Dtype  \n",
      "---  ------          --------------  -----  \n",
      " 0   Ref             12424 non-null  object \n",
      " 1   Status          12424 non-null  object \n",
      " 2   Location        12424 non-null  object \n",
      " 3   Description     12424 non-null  object \n",
      " 4   Created         12424 non-null  object \n",
      " 5   Target          2568 non-null   float64\n",
      " 6   Type            12424 non-null  object \n",
      " 7   To Package      11382 non-null  object \n",
      " 8   Status Changed  12424 non-null  object \n",
      " 9   Association     9483 non-null   object \n",
      " 10  OverDue         12424 non-null  bool   \n",
      " 11  Images          12272 non-null  object \n",
      " 12  Comments        11902 non-null  object \n",
      " 13  Documents       11780 non-null  object \n",
      " 14  Priority        2366 non-null   object \n",
      " 15  Cause           9683 non-null   object \n",
      " 16  project         12424 non-null  int64  \n",
      " 17  Report Status   12424 non-null  object \n",
      " 18  Task Group      12374 non-null  object \n",
      "dtypes: bool(1), float64(1), int64(1), object(16)\n",
      "memory usage: 1.7+ MB\n"
     ]
    }
   ],
   "source": [
    "df.info()"
   ]
  },
  {
   "cell_type": "code",
   "execution_count": null,
   "id": "bb28eb25",
   "metadata": {},
   "outputs": [],
   "source": []
  }
 ],
 "metadata": {
  "kernelspec": {
   "display_name": "Python 3",
   "language": "python",
   "name": "python3"
  },
  "language_info": {
   "codemirror_mode": {
    "name": "ipython",
    "version": 3
   },
   "file_extension": ".py",
   "mimetype": "text/x-python",
   "name": "python",
   "nbconvert_exporter": "python",
   "pygments_lexer": "ipython3",
   "version": "3.11.4"
  }
 },
 "nbformat": 4,
 "nbformat_minor": 5
}
