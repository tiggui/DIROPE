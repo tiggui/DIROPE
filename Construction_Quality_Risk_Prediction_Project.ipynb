{
  "metadata": {
    "kernelspec": {
      "name": "python3",
      "display_name": "Python 3",
      "language": "python"
    },
    "language_info": {
      "name": "python",
      "version": "3.11.11",
      "mimetype": "text/x-python",
      "codemirror_mode": {
        "name": "ipython",
        "version": 3
      },
      "pygments_lexer": "ipython3",
      "nbconvert_exporter": "python",
      "file_extension": ".py"
    },
    "kaggle": {
      "accelerator": "none",
      "dataSources": [
        {
          "sourceId": 2619963,
          "sourceType": "datasetVersion",
          "datasetId": 1592437
        },
        {
          "sourceId": 11797626,
          "sourceType": "datasetVersion",
          "datasetId": 7408482
        }
      ],
      "dockerImageVersionId": 31040,
      "isInternetEnabled": true,
      "language": "python",
      "sourceType": "notebook",
      "isGpuEnabled": false
    },
    "colab": {
      "name": "Construction_Quality_Risk_Prediction_Project",
      "provenance": []
    }
  },
  "nbformat_minor": 0,
  "nbformat": 4,
  "cells": [
    {
      "cell_type": "markdown",
      "source": [
        "# 1. Introducción\n",
        "\n",
        "## 1.1 Antecedentes\n",
        "En la industria de la construcción, los problemas de calidad como la mano de obra deficiente, la documentación incompleta y el incumplimiento de materiales con frecuencia provocan costosos retrasos, retrabajos y disputas. A pesar del uso de herramientas modernas de gestión de proyectos e inspecciones rutinarias, muchos problemas todavía se identifican de forma reactiva, es decir, solo después de que ya han causado interrupciones.\n",
        "\n",
        "Como gerente de construcción e investigador, he observado el potencial no aprovechado en los datos administrativos generados diariamente en los sitios de construcción. Esto incluye registros de tareas y formularios diarios presentados por el personal de campo. Aprovechar estos datos con aprendizaje automático ofrece una oportunidad para pasar de la detección reactiva de problemas a la predicción proactiva de riesgos.\n",
        "\n",
        "## 1.2 Objetivo del Proyecto\n",
        "Este proyecto explora si el aprendizaje automático puede utilizarse para predecir posibles problemas de calidad en proyectos de construcción usando datos administrativos estructurados, sin depender de sensores, fotos o modelos BIM.\n",
        "\n",
        "El objetivo principal es:\n",
        "\n",
        "Construir un modelo de aprendizaje automático que prediga si un registro de tarea recién enviado probablemente indique un problema de calidad, utilizando características como grupo de tareas (por ejemplo, Seguridad, QA/QC), causa (por ejemplo, Documentación, Limpieza), nivel de prioridad y estado de vencimiento.\n",
        "\n",
        "## 1.3 Pregunta de Investigación Clave\n",
        "¿Podemos usar datos administrativos rutinarios de construcción para predecir posibles problemas de calidad antes de que ocurran?\n",
        "\n",
        "Si tiene éxito, este proyecto permitirá:\n",
        "\n",
        "- Proporcionar una solución escalable y de bajo costo usando datos que ya se recopilan.\n",
        "- Empoderar a los equipos de campo con información inteligente basada en datos.\n",
        "- Reducir riesgos, retrabajos y retrasos en proyectos de cualquier tamaño.\n",
        "\n",
        "# 2. Comprensión del Conjunto de Datos\n",
        "\n",
        "## 2.1 Descripción del Dataset\n",
        "El conjunto de datos utilizado en este proyecto se titula “Construction and Project Management Example Data”, obtenido de Kaggle. Consta de dos componentes principales:\n",
        "\n",
        "- Formularios y reportes diarios presentados por el personal de campo (por ejemplo, diarios de obra, planes de trabajo).\n",
        "- Registros de tareas, que incluyen:\n",
        "  - Tipo de tarea\n",
        "  - Grupo de tarea (por ejemplo, Seguridad, QA/QC)\n",
        "  - Causa (por ejemplo, Documentación, Limpieza)\n",
        "  - Estado de vencimiento\n",
        "  - Nivel de prioridad\n",
        "  - Estado (Abierto/Cerrado)\n",
        "\n",
        "Cada registro en este dataset refleja actividades reales en campo, lo que lo hace altamente relevante para el modelado de riesgos de calidad.\n",
        "\n",
        "## 2.2 Por Qué Este Dataset Es Relevante\n",
        "Este conjunto de datos es ideal para construir un modelo predictivo porque:\n",
        "\n",
        "- Captura la toma de decisiones operativas en tiempo real a nivel de campo.\n",
        "- Incluye indicadores operativos como Causa, Vencido y Prioridad, comúnmente monitoreados por gerentes de calidad.\n",
        "- No requiere herramientas ni hardware adicionales de recolección de datos — solo análisis de registros existentes.\n",
        "\n",
        "**Ejemplos:**\n",
        "\n",
        "- Las tareas marcadas como \"Alta\" prioridad suelen indicar preocupaciones urgentes de calidad o seguridad.\n",
        "- Causas como \"Documentación\" o \"Limpieza\" aparecen con frecuencia en reportes de no conformidad.\n",
        "- Las tareas vencidas pueden indicar retrasos en la resolución de problemas críticos.\n",
        "\n",
        "Estas características son fuertes predictores para identificar riesgos potenciales.\n",
        "\n",
        "# 3. Enfoque del Problema\n",
        "\n",
        "## 3.1 Tipo de Problema de Machine Learning\n",
        "Este proyecto es una tarea supervisada de clasificación binaria:\n",
        "\n",
        "- Variable objetivo: Si una tarea es un problema de calidad (1 = Sí, 0 = No)\n",
        "- Variables de entrada: Causa, Grupo de tarea, Prioridad, Indicador de vencimiento, Tipo de tarea\n",
        "\n",
        "## 3.2 Estrategia de Etiquetado\n",
        "Una tarea se etiqueta como problema de calidad si:\n",
        "\n",
        "- Tiene prioridad alta, o\n",
        "- Está asociada con una causa conocida relacionada con calidad, como Documentación, Limpieza o Acceso.\n",
        "\n",
        "Este enfoque de etiquetado se alinea con la manera en que los ingenieros e inspectores de campo suelen marcar y priorizar los problemas en obra.\n",
        "\n",
        "## 3.3 Impacto Potencial\n",
        "Una vez entrenado, el modelo podrá:\n",
        "\n",
        "- Recibir un nuevo registro de tarea\n",
        "- Generar una puntuación de riesgo\n",
        "- Marcar automáticamente tareas de riesgo para su revisión anticipada\n",
        "\n",
        "Esto permitirá que los equipos de construcción:\n",
        "\n",
        "- Actúen antes para prevenir fallas de calidad\n",
        "- Optimicen inspecciones e intervenciones en obra\n",
        "- Reduzcan retrabajos, retrasos y disputas con clientes\n",
        "\n",
        "# 4. Análisis Exploratorio de Datos (EDA)\n",
        "\n",
        "## 4.1 Objetivo de Esta Etapa\n",
        "El propósito del análisis exploratorio es comprender mejor la estructura del dataset y descubrir patrones o tendencias significativas que informen la selección de características para el modelo predictivo. Esta etapa se enfoca en:\n",
        "\n",
        "- Comprender cómo se distribuyen las variables clave\n",
        "- Detectar patrones o anomalías vinculadas a problemas de calidad\n",
        "- Identificar valores faltantes, desbalance de clases y otros retos de los datos\n",
        "\n",
        "Esta etapa se enfoca en el dataset de tareas, donde cada fila representa un problema, observación o comentario registrado por el equipo del proyecto de construcción.\n",
        "\n",
        "## 4.2 Cargar y Previsualizar los Datos\n"
      ],
      "metadata": {
        "id": "e849fdd2-c75a-47f5-9724-2045c8170c71"
      }
    },
    {
      "cell_type": "code",
      "source": [
        "import pandas as pd\n",
        "\n",
        "# Load the task dataset\n",
        "df = pd.read_csv(\"https://raw.githubusercontent.com/tiggui/DIROPE/refs/heads/main/Construction_Data_PM_Tasks_All_Projects.csv\")\n",
        "\n",
        "# Preview the first few rows\n",
        "df.head()\n"
      ],
      "metadata": {
        "trusted": true,
        "execution": {
          "iopub.status.busy": "2025-05-13T15:54:20.76803Z",
          "iopub.execute_input": "2025-05-13T15:54:20.768372Z",
          "iopub.status.idle": "2025-05-13T15:54:20.873165Z",
          "shell.execute_reply.started": "2025-05-13T15:54:20.768345Z",
          "shell.execute_reply": "2025-05-13T15:54:20.872176Z"
        },
        "id": "92c7fde1-cd00-49b0-a8b2-779a3ec3a1bf",
        "colab": {
          "base_uri": "https://localhost:8080/",
          "height": 449
        },
        "outputId": "bd0dcfa0-1ef7-4f5b-917f-feb82dfb9bcd"
      },
      "outputs": [
        {
          "output_type": "execute_result",
          "data": {
            "text/plain": [
              "           Ref                Status  \\\n",
              "0  T1.23963030                  Open   \n",
              "1  T116412.200                Closed   \n",
              "2   T141663.27  EHS Good Observation   \n",
              "3  T116412.199                Closed   \n",
              "4   T141663.26  EHS Good Observation   \n",
              "\n",
              "                                            Location  \\\n",
              "0  JPC Project Management>EHS Management>01 Inspe...   \n",
              "1  QC & BC(A)R>ITP 02 Architectural & M&E Service...   \n",
              "2  JPC Project Management>EHS Management>01 Inspe...   \n",
              "3  QC & BC(A)R>ITP 02 Architectural & M&E Service...   \n",
              "4  JPC Project Management>EHS Management>01 Inspe...   \n",
              "\n",
              "                                         Description     Created  Target  \\\n",
              "0  task raised in incorrect location of this form...  14/09/2020     NaN   \n",
              "1                                             Metsec  14/09/2020     NaN   \n",
              "2  Good clear exclusion zones and access through ...  14/09/2020     NaN   \n",
              "3                                           RC walls  14/09/2020     NaN   \n",
              "4  block 02 working level has good housekeeping, ...  14/09/2020     NaN   \n",
              "\n",
              "                                       Type             To Package  \\\n",
              "0     Safety Notice (Amber) - General Issue        Main Contractor   \n",
              "1                      JPC - Progress Photo  Ceilings & Partitions   \n",
              "2  Safety Notice (Green) - Good Observation        Main Contractor   \n",
              "3                      JPC - Progress Photo       Precast Concrete   \n",
              "4  Safety Notice (Green) - Good Observation       Precast Concrete   \n",
              "\n",
              "  Status Changed Association  OverDue Images Comments Documents  \\\n",
              "0     14/09/2020  FormAnswer    False    NaN      NaN       NaN   \n",
              "1     14/09/2020         NaN    False   True    False     False   \n",
              "2     14/09/2020  FormAnswer    False   True    False     False   \n",
              "3     14/09/2020         NaN    False   True    False     False   \n",
              "4     14/09/2020  FormAnswer    False   True    False     False   \n",
              "\n",
              "              Priority                         Cause  project Report Status  \\\n",
              "0  Behavioural Failure  JPC - Safety - Documentation     1328          Open   \n",
              "1                  NaN                           NaN     1328        Closed   \n",
              "2                  NaN         JPC - Safety - Access     1328        Closed   \n",
              "3                  NaN                           NaN     1328        Closed   \n",
              "4                  NaN  JPC - Safety - House Keeping     1328        Closed   \n",
              "\n",
              "        Task Group  \n",
              "0           Safety  \n",
              "1  Site Management  \n",
              "2           Safety  \n",
              "3  Site Management  \n",
              "4           Safety  "
            ],
            "text/html": [
              "\n",
              "  <div id=\"df-819af4c3-4bad-4b97-8be6-8a9e25b15c58\" class=\"colab-df-container\">\n",
              "    <div>\n",
              "<style scoped>\n",
              "    .dataframe tbody tr th:only-of-type {\n",
              "        vertical-align: middle;\n",
              "    }\n",
              "\n",
              "    .dataframe tbody tr th {\n",
              "        vertical-align: top;\n",
              "    }\n",
              "\n",
              "    .dataframe thead th {\n",
              "        text-align: right;\n",
              "    }\n",
              "</style>\n",
              "<table border=\"1\" class=\"dataframe\">\n",
              "  <thead>\n",
              "    <tr style=\"text-align: right;\">\n",
              "      <th></th>\n",
              "      <th>Ref</th>\n",
              "      <th>Status</th>\n",
              "      <th>Location</th>\n",
              "      <th>Description</th>\n",
              "      <th>Created</th>\n",
              "      <th>Target</th>\n",
              "      <th>Type</th>\n",
              "      <th>To Package</th>\n",
              "      <th>Status Changed</th>\n",
              "      <th>Association</th>\n",
              "      <th>OverDue</th>\n",
              "      <th>Images</th>\n",
              "      <th>Comments</th>\n",
              "      <th>Documents</th>\n",
              "      <th>Priority</th>\n",
              "      <th>Cause</th>\n",
              "      <th>project</th>\n",
              "      <th>Report Status</th>\n",
              "      <th>Task Group</th>\n",
              "    </tr>\n",
              "  </thead>\n",
              "  <tbody>\n",
              "    <tr>\n",
              "      <th>0</th>\n",
              "      <td>T1.23963030</td>\n",
              "      <td>Open</td>\n",
              "      <td>JPC Project Management&gt;EHS Management&gt;01 Inspe...</td>\n",
              "      <td>task raised in incorrect location of this form...</td>\n",
              "      <td>14/09/2020</td>\n",
              "      <td>NaN</td>\n",
              "      <td>Safety Notice (Amber) - General Issue</td>\n",
              "      <td>Main Contractor</td>\n",
              "      <td>14/09/2020</td>\n",
              "      <td>FormAnswer</td>\n",
              "      <td>False</td>\n",
              "      <td>NaN</td>\n",
              "      <td>NaN</td>\n",
              "      <td>NaN</td>\n",
              "      <td>Behavioural Failure</td>\n",
              "      <td>JPC - Safety - Documentation</td>\n",
              "      <td>1328</td>\n",
              "      <td>Open</td>\n",
              "      <td>Safety</td>\n",
              "    </tr>\n",
              "    <tr>\n",
              "      <th>1</th>\n",
              "      <td>T116412.200</td>\n",
              "      <td>Closed</td>\n",
              "      <td>QC &amp; BC(A)R&gt;ITP 02 Architectural &amp; M&amp;E Service...</td>\n",
              "      <td>Metsec</td>\n",
              "      <td>14/09/2020</td>\n",
              "      <td>NaN</td>\n",
              "      <td>JPC - Progress Photo</td>\n",
              "      <td>Ceilings &amp; Partitions</td>\n",
              "      <td>14/09/2020</td>\n",
              "      <td>NaN</td>\n",
              "      <td>False</td>\n",
              "      <td>True</td>\n",
              "      <td>False</td>\n",
              "      <td>False</td>\n",
              "      <td>NaN</td>\n",
              "      <td>NaN</td>\n",
              "      <td>1328</td>\n",
              "      <td>Closed</td>\n",
              "      <td>Site Management</td>\n",
              "    </tr>\n",
              "    <tr>\n",
              "      <th>2</th>\n",
              "      <td>T141663.27</td>\n",
              "      <td>EHS Good Observation</td>\n",
              "      <td>JPC Project Management&gt;EHS Management&gt;01 Inspe...</td>\n",
              "      <td>Good clear exclusion zones and access through ...</td>\n",
              "      <td>14/09/2020</td>\n",
              "      <td>NaN</td>\n",
              "      <td>Safety Notice (Green) - Good Observation</td>\n",
              "      <td>Main Contractor</td>\n",
              "      <td>14/09/2020</td>\n",
              "      <td>FormAnswer</td>\n",
              "      <td>False</td>\n",
              "      <td>True</td>\n",
              "      <td>False</td>\n",
              "      <td>False</td>\n",
              "      <td>NaN</td>\n",
              "      <td>JPC - Safety - Access</td>\n",
              "      <td>1328</td>\n",
              "      <td>Closed</td>\n",
              "      <td>Safety</td>\n",
              "    </tr>\n",
              "    <tr>\n",
              "      <th>3</th>\n",
              "      <td>T116412.199</td>\n",
              "      <td>Closed</td>\n",
              "      <td>QC &amp; BC(A)R&gt;ITP 02 Architectural &amp; M&amp;E Service...</td>\n",
              "      <td>RC walls</td>\n",
              "      <td>14/09/2020</td>\n",
              "      <td>NaN</td>\n",
              "      <td>JPC - Progress Photo</td>\n",
              "      <td>Precast Concrete</td>\n",
              "      <td>14/09/2020</td>\n",
              "      <td>NaN</td>\n",
              "      <td>False</td>\n",
              "      <td>True</td>\n",
              "      <td>False</td>\n",
              "      <td>False</td>\n",
              "      <td>NaN</td>\n",
              "      <td>NaN</td>\n",
              "      <td>1328</td>\n",
              "      <td>Closed</td>\n",
              "      <td>Site Management</td>\n",
              "    </tr>\n",
              "    <tr>\n",
              "      <th>4</th>\n",
              "      <td>T141663.26</td>\n",
              "      <td>EHS Good Observation</td>\n",
              "      <td>JPC Project Management&gt;EHS Management&gt;01 Inspe...</td>\n",
              "      <td>block 02 working level has good housekeeping, ...</td>\n",
              "      <td>14/09/2020</td>\n",
              "      <td>NaN</td>\n",
              "      <td>Safety Notice (Green) - Good Observation</td>\n",
              "      <td>Precast Concrete</td>\n",
              "      <td>14/09/2020</td>\n",
              "      <td>FormAnswer</td>\n",
              "      <td>False</td>\n",
              "      <td>True</td>\n",
              "      <td>False</td>\n",
              "      <td>False</td>\n",
              "      <td>NaN</td>\n",
              "      <td>JPC - Safety - House Keeping</td>\n",
              "      <td>1328</td>\n",
              "      <td>Closed</td>\n",
              "      <td>Safety</td>\n",
              "    </tr>\n",
              "  </tbody>\n",
              "</table>\n",
              "</div>\n",
              "    <div class=\"colab-df-buttons\">\n",
              "\n",
              "  <div class=\"colab-df-container\">\n",
              "    <button class=\"colab-df-convert\" onclick=\"convertToInteractive('df-819af4c3-4bad-4b97-8be6-8a9e25b15c58')\"\n",
              "            title=\"Convert this dataframe to an interactive table.\"\n",
              "            style=\"display:none;\">\n",
              "\n",
              "  <svg xmlns=\"http://www.w3.org/2000/svg\" height=\"24px\" viewBox=\"0 -960 960 960\">\n",
              "    <path d=\"M120-120v-720h720v720H120Zm60-500h600v-160H180v160Zm220 220h160v-160H400v160Zm0 220h160v-160H400v160ZM180-400h160v-160H180v160Zm440 0h160v-160H620v160ZM180-180h160v-160H180v160Zm440 0h160v-160H620v160Z\"/>\n",
              "  </svg>\n",
              "    </button>\n",
              "\n",
              "  <style>\n",
              "    .colab-df-container {\n",
              "      display:flex;\n",
              "      gap: 12px;\n",
              "    }\n",
              "\n",
              "    .colab-df-convert {\n",
              "      background-color: #E8F0FE;\n",
              "      border: none;\n",
              "      border-radius: 50%;\n",
              "      cursor: pointer;\n",
              "      display: none;\n",
              "      fill: #1967D2;\n",
              "      height: 32px;\n",
              "      padding: 0 0 0 0;\n",
              "      width: 32px;\n",
              "    }\n",
              "\n",
              "    .colab-df-convert:hover {\n",
              "      background-color: #E2EBFA;\n",
              "      box-shadow: 0px 1px 2px rgba(60, 64, 67, 0.3), 0px 1px 3px 1px rgba(60, 64, 67, 0.15);\n",
              "      fill: #174EA6;\n",
              "    }\n",
              "\n",
              "    .colab-df-buttons div {\n",
              "      margin-bottom: 4px;\n",
              "    }\n",
              "\n",
              "    [theme=dark] .colab-df-convert {\n",
              "      background-color: #3B4455;\n",
              "      fill: #D2E3FC;\n",
              "    }\n",
              "\n",
              "    [theme=dark] .colab-df-convert:hover {\n",
              "      background-color: #434B5C;\n",
              "      box-shadow: 0px 1px 3px 1px rgba(0, 0, 0, 0.15);\n",
              "      filter: drop-shadow(0px 1px 2px rgba(0, 0, 0, 0.3));\n",
              "      fill: #FFFFFF;\n",
              "    }\n",
              "  </style>\n",
              "\n",
              "    <script>\n",
              "      const buttonEl =\n",
              "        document.querySelector('#df-819af4c3-4bad-4b97-8be6-8a9e25b15c58 button.colab-df-convert');\n",
              "      buttonEl.style.display =\n",
              "        google.colab.kernel.accessAllowed ? 'block' : 'none';\n",
              "\n",
              "      async function convertToInteractive(key) {\n",
              "        const element = document.querySelector('#df-819af4c3-4bad-4b97-8be6-8a9e25b15c58');\n",
              "        const dataTable =\n",
              "          await google.colab.kernel.invokeFunction('convertToInteractive',\n",
              "                                                    [key], {});\n",
              "        if (!dataTable) return;\n",
              "\n",
              "        const docLinkHtml = 'Like what you see? Visit the ' +\n",
              "          '<a target=\"_blank\" href=https://colab.research.google.com/notebooks/data_table.ipynb>data table notebook</a>'\n",
              "          + ' to learn more about interactive tables.';\n",
              "        element.innerHTML = '';\n",
              "        dataTable['output_type'] = 'display_data';\n",
              "        await google.colab.output.renderOutput(dataTable, element);\n",
              "        const docLink = document.createElement('div');\n",
              "        docLink.innerHTML = docLinkHtml;\n",
              "        element.appendChild(docLink);\n",
              "      }\n",
              "    </script>\n",
              "  </div>\n",
              "\n",
              "\n",
              "    <div id=\"df-4b6b1580-8388-4266-991e-e8c3144ca70e\">\n",
              "      <button class=\"colab-df-quickchart\" onclick=\"quickchart('df-4b6b1580-8388-4266-991e-e8c3144ca70e')\"\n",
              "                title=\"Suggest charts\"\n",
              "                style=\"display:none;\">\n",
              "\n",
              "<svg xmlns=\"http://www.w3.org/2000/svg\" height=\"24px\"viewBox=\"0 0 24 24\"\n",
              "     width=\"24px\">\n",
              "    <g>\n",
              "        <path d=\"M19 3H5c-1.1 0-2 .9-2 2v14c0 1.1.9 2 2 2h14c1.1 0 2-.9 2-2V5c0-1.1-.9-2-2-2zM9 17H7v-7h2v7zm4 0h-2V7h2v10zm4 0h-2v-4h2v4z\"/>\n",
              "    </g>\n",
              "</svg>\n",
              "      </button>\n",
              "\n",
              "<style>\n",
              "  .colab-df-quickchart {\n",
              "      --bg-color: #E8F0FE;\n",
              "      --fill-color: #1967D2;\n",
              "      --hover-bg-color: #E2EBFA;\n",
              "      --hover-fill-color: #174EA6;\n",
              "      --disabled-fill-color: #AAA;\n",
              "      --disabled-bg-color: #DDD;\n",
              "  }\n",
              "\n",
              "  [theme=dark] .colab-df-quickchart {\n",
              "      --bg-color: #3B4455;\n",
              "      --fill-color: #D2E3FC;\n",
              "      --hover-bg-color: #434B5C;\n",
              "      --hover-fill-color: #FFFFFF;\n",
              "      --disabled-bg-color: #3B4455;\n",
              "      --disabled-fill-color: #666;\n",
              "  }\n",
              "\n",
              "  .colab-df-quickchart {\n",
              "    background-color: var(--bg-color);\n",
              "    border: none;\n",
              "    border-radius: 50%;\n",
              "    cursor: pointer;\n",
              "    display: none;\n",
              "    fill: var(--fill-color);\n",
              "    height: 32px;\n",
              "    padding: 0;\n",
              "    width: 32px;\n",
              "  }\n",
              "\n",
              "  .colab-df-quickchart:hover {\n",
              "    background-color: var(--hover-bg-color);\n",
              "    box-shadow: 0 1px 2px rgba(60, 64, 67, 0.3), 0 1px 3px 1px rgba(60, 64, 67, 0.15);\n",
              "    fill: var(--button-hover-fill-color);\n",
              "  }\n",
              "\n",
              "  .colab-df-quickchart-complete:disabled,\n",
              "  .colab-df-quickchart-complete:disabled:hover {\n",
              "    background-color: var(--disabled-bg-color);\n",
              "    fill: var(--disabled-fill-color);\n",
              "    box-shadow: none;\n",
              "  }\n",
              "\n",
              "  .colab-df-spinner {\n",
              "    border: 2px solid var(--fill-color);\n",
              "    border-color: transparent;\n",
              "    border-bottom-color: var(--fill-color);\n",
              "    animation:\n",
              "      spin 1s steps(1) infinite;\n",
              "  }\n",
              "\n",
              "  @keyframes spin {\n",
              "    0% {\n",
              "      border-color: transparent;\n",
              "      border-bottom-color: var(--fill-color);\n",
              "      border-left-color: var(--fill-color);\n",
              "    }\n",
              "    20% {\n",
              "      border-color: transparent;\n",
              "      border-left-color: var(--fill-color);\n",
              "      border-top-color: var(--fill-color);\n",
              "    }\n",
              "    30% {\n",
              "      border-color: transparent;\n",
              "      border-left-color: var(--fill-color);\n",
              "      border-top-color: var(--fill-color);\n",
              "      border-right-color: var(--fill-color);\n",
              "    }\n",
              "    40% {\n",
              "      border-color: transparent;\n",
              "      border-right-color: var(--fill-color);\n",
              "      border-top-color: var(--fill-color);\n",
              "    }\n",
              "    60% {\n",
              "      border-color: transparent;\n",
              "      border-right-color: var(--fill-color);\n",
              "    }\n",
              "    80% {\n",
              "      border-color: transparent;\n",
              "      border-right-color: var(--fill-color);\n",
              "      border-bottom-color: var(--fill-color);\n",
              "    }\n",
              "    90% {\n",
              "      border-color: transparent;\n",
              "      border-bottom-color: var(--fill-color);\n",
              "    }\n",
              "  }\n",
              "</style>\n",
              "\n",
              "      <script>\n",
              "        async function quickchart(key) {\n",
              "          const quickchartButtonEl =\n",
              "            document.querySelector('#' + key + ' button');\n",
              "          quickchartButtonEl.disabled = true;  // To prevent multiple clicks.\n",
              "          quickchartButtonEl.classList.add('colab-df-spinner');\n",
              "          try {\n",
              "            const charts = await google.colab.kernel.invokeFunction(\n",
              "                'suggestCharts', [key], {});\n",
              "          } catch (error) {\n",
              "            console.error('Error during call to suggestCharts:', error);\n",
              "          }\n",
              "          quickchartButtonEl.classList.remove('colab-df-spinner');\n",
              "          quickchartButtonEl.classList.add('colab-df-quickchart-complete');\n",
              "        }\n",
              "        (() => {\n",
              "          let quickchartButtonEl =\n",
              "            document.querySelector('#df-4b6b1580-8388-4266-991e-e8c3144ca70e button');\n",
              "          quickchartButtonEl.style.display =\n",
              "            google.colab.kernel.accessAllowed ? 'block' : 'none';\n",
              "        })();\n",
              "      </script>\n",
              "    </div>\n",
              "\n",
              "    </div>\n",
              "  </div>\n"
            ],
            "application/vnd.google.colaboratory.intrinsic+json": {
              "type": "dataframe",
              "variable_name": "df",
              "summary": "{\n  \"name\": \"df\",\n  \"rows\": 12424,\n  \"fields\": [\n    {\n      \"column\": \"Ref\",\n      \"properties\": {\n        \"dtype\": \"string\",\n        \"num_unique_values\": 12118,\n        \"samples\": [\n          \"T121399.11\",\n          \"T86424.641\",\n          \"T121354.96\"\n        ],\n        \"semantic_type\": \"\",\n        \"description\": \"\"\n      }\n    },\n    {\n      \"column\": \"Status\",\n      \"properties\": {\n        \"dtype\": \"category\",\n        \"num_unique_values\": 16,\n        \"samples\": [\n          \"Open\",\n          \"Closed\",\n          \"Works Complete / Resolved\"\n        ],\n        \"semantic_type\": \"\",\n        \"description\": \"\"\n      }\n    },\n    {\n      \"column\": \"Location\",\n      \"properties\": {\n        \"dtype\": \"category\",\n        \"num_unique_values\": 594,\n        \"samples\": [\n          \"QC & BC(A)R>ITP 02 Architectural & M&E Services>Block 3>Elevations>2. Courtyard (North Elevation)>1st to 2nd Floor\",\n          \"Quality Control & BC(A)R>ITP 02 Architectural>3rd Floor Plan>Stairs>Stair at Goods Lift\",\n          \"Training Area>Sample Drawing 2>Area 5\"\n        ],\n        \"semantic_type\": \"\",\n        \"description\": \"\"\n      }\n    },\n    {\n      \"column\": \"Description\",\n      \"properties\": {\n        \"dtype\": \"string\",\n        \"num_unique_values\": 10268,\n        \"samples\": [\n          \"Timber to be tidied up\",\n          \"Smoking area segregated with cover\",\n          \"Good use of barriers for edge protection at ground beam\"\n        ],\n        \"semantic_type\": \"\",\n        \"description\": \"\"\n      }\n    },\n    {\n      \"column\": \"Created\",\n      \"properties\": {\n        \"dtype\": \"object\",\n        \"num_unique_values\": 351,\n        \"samples\": [\n          \"29/10/2019\",\n          \"16/03/2020\",\n          \"06/04/2020\"\n        ],\n        \"semantic_type\": \"\",\n        \"description\": \"\"\n      }\n    },\n    {\n      \"column\": \"Target\",\n      \"properties\": {\n        \"dtype\": \"number\",\n        \"std\": 105.26151845043685,\n        \"min\": 43590.0,\n        \"max\": 44106.0,\n        \"num_unique_values\": 255,\n        \"samples\": [\n          43961.0,\n          44083.0,\n          43840.0\n        ],\n        \"semantic_type\": \"\",\n        \"description\": \"\"\n      }\n    },\n    {\n      \"column\": \"Type\",\n      \"properties\": {\n        \"dtype\": \"category\",\n        \"num_unique_values\": 37,\n        \"samples\": [\n          \"JPC - BCAR Notification\",\n          \"Safety Notice (Red) - Serious Issue\",\n          \"JPC - Works To Go\"\n        ],\n        \"semantic_type\": \"\",\n        \"description\": \"\"\n      }\n    },\n    {\n      \"column\": \"To Package\",\n      \"properties\": {\n        \"dtype\": \"category\",\n        \"num_unique_values\": 105,\n        \"samples\": [\n          \"M&E Engineer\",\n          \"Security\",\n          \"Concrete Works\"\n        ],\n        \"semantic_type\": \"\",\n        \"description\": \"\"\n      }\n    },\n    {\n      \"column\": \"Status Changed\",\n      \"properties\": {\n        \"dtype\": \"object\",\n        \"num_unique_values\": 361,\n        \"samples\": [\n          \"30/10/2019\",\n          \"06/07/2020\",\n          \"26/08/2020\"\n        ],\n        \"semantic_type\": \"\",\n        \"description\": \"\"\n      }\n    },\n    {\n      \"column\": \"Association\",\n      \"properties\": {\n        \"dtype\": \"category\",\n        \"num_unique_values\": 3,\n        \"samples\": [\n          \"FormAnswer\",\n          \"ForwardedFrom\",\n          \"ForwardedTo\"\n        ],\n        \"semantic_type\": \"\",\n        \"description\": \"\"\n      }\n    },\n    {\n      \"column\": \"OverDue\",\n      \"properties\": {\n        \"dtype\": \"boolean\",\n        \"num_unique_values\": 2,\n        \"samples\": [\n          true,\n          false\n        ],\n        \"semantic_type\": \"\",\n        \"description\": \"\"\n      }\n    },\n    {\n      \"column\": \"Images\",\n      \"properties\": {\n        \"dtype\": \"category\",\n        \"num_unique_values\": 2,\n        \"samples\": [\n          false,\n          true\n        ],\n        \"semantic_type\": \"\",\n        \"description\": \"\"\n      }\n    },\n    {\n      \"column\": \"Comments\",\n      \"properties\": {\n        \"dtype\": \"category\",\n        \"num_unique_values\": 2,\n        \"samples\": [\n          true,\n          false\n        ],\n        \"semantic_type\": \"\",\n        \"description\": \"\"\n      }\n    },\n    {\n      \"column\": \"Documents\",\n      \"properties\": {\n        \"dtype\": \"category\",\n        \"num_unique_values\": 2,\n        \"samples\": [\n          true,\n          false\n        ],\n        \"semantic_type\": \"\",\n        \"description\": \"\"\n      }\n    },\n    {\n      \"column\": \"Priority\",\n      \"properties\": {\n        \"dtype\": \"category\",\n        \"num_unique_values\": 14,\n        \"samples\": [\n          \"Best Practice\",\n          \"1 Month Look Ahead\"\n        ],\n        \"semantic_type\": \"\",\n        \"description\": \"\"\n      }\n    },\n    {\n      \"column\": \"Cause\",\n      \"properties\": {\n        \"dtype\": \"category\",\n        \"num_unique_values\": 47,\n        \"samples\": [\n          \"JPC - Safety - Public Interface / Hoarding\",\n          \"JPC - Safety - Slips / Trips / Falls\"\n        ],\n        \"semantic_type\": \"\",\n        \"description\": \"\"\n      }\n    },\n    {\n      \"column\": \"project\",\n      \"properties\": {\n        \"dtype\": \"number\",\n        \"std\": 5,\n        \"min\": 1328,\n        \"max\": 1345,\n        \"num_unique_values\": 8,\n        \"samples\": [\n          1329,\n          1340\n        ],\n        \"semantic_type\": \"\",\n        \"description\": \"\"\n      }\n    },\n    {\n      \"column\": \"Report Status\",\n      \"properties\": {\n        \"dtype\": \"category\",\n        \"num_unique_values\": 2,\n        \"samples\": [\n          \"Closed\",\n          \"Open\"\n        ],\n        \"semantic_type\": \"\",\n        \"description\": \"\"\n      }\n    },\n    {\n      \"column\": \"Task Group\",\n      \"properties\": {\n        \"dtype\": \"category\",\n        \"num_unique_values\": 4,\n        \"samples\": [\n          \"Site Management\",\n          \"Design Team\"\n        ],\n        \"semantic_type\": \"\",\n        \"description\": \"\"\n      }\n    }\n  ]\n}"
            }
          },
          "metadata": {},
          "execution_count": 16
        }
      ],
      "execution_count": 16
    },
    {
      "cell_type": "markdown",
      "source": [
        "✅ This dataset contains 12,424 rows, each representing a construction task or issue logged in the field.\n",
        "\n",
        "## 4.3 Initial Cleaning and Feature Preparation\n",
        "Before diving into visualizations, we clean and prepare several key columns that will be used in modeling:\n"
      ],
      "metadata": {
        "id": "50313e3f-4fc0-4df8-876d-f467d6d03672"
      }
    },
    {
      "cell_type": "code",
      "source": [
        "# Fill missing values\n",
        "df[\"Priority\"] = df[\"Priority\"].fillna(\"None\")\n",
        "df[\"Cause\"] = df[\"Cause\"].fillna(\"Unknown\")\n",
        "df[\"Task Group\"] = df[\"Task Group\"].fillna(\"Unknown\")\n",
        "\n",
        "# Convert OverDue from boolean to integer\n",
        "df[\"OverDue\"] = df[\"OverDue\"].astype(bool).astype(int)\n"
      ],
      "metadata": {
        "trusted": true,
        "execution": {
          "iopub.status.busy": "2025-05-13T15:54:58.312616Z",
          "iopub.execute_input": "2025-05-13T15:54:58.312994Z",
          "iopub.status.idle": "2025-05-13T15:54:58.324207Z",
          "shell.execute_reply.started": "2025-05-13T15:54:58.312968Z",
          "shell.execute_reply": "2025-05-13T15:54:58.323114Z"
        },
        "id": "9687e364-5a80-4149-9dca-71d50083e0e6"
      },
      "outputs": [],
      "execution_count": 17
    },
    {
      "cell_type": "markdown",
      "source": [
        "## 4.4 Feature Distributions and Visual Insights\n",
        "\n",
        "### 📊 1. Distribution of Task Priorities\n",
        "Understanding how task priorities are distributed in the dataset is crucial because this feature is directly tied to how construction teams assess the urgency and severity of site issues. In our model, tasks labeled as \"High\" priority will serve as the positive class, indicating a likely quality issue.\n"
      ],
      "metadata": {
        "id": "e1b28439-344c-41cd-9832-2d54cbda5c78"
      }
    },
    {
      "cell_type": "code",
      "source": [
        "import matplotlib.pyplot as plt\n",
        "import seaborn as sns\n",
        "\n",
        "plt.figure(figsize=(8, 5))\n",
        "sns.countplot(data=df, x=\"Priority\", order=df[\"Priority\"].value_counts().index, palette=\"Set2\")\n",
        "plt.title(\"Distribution of Task Priorities\")\n",
        "plt.xlabel(\"Priority Level\")\n",
        "plt.ylabel(\"Number of Tasks\")\n",
        "plt.xticks(rotation=45)\n",
        "plt.tight_layout()\n",
        "plt.show()\n"
      ],
      "metadata": {
        "trusted": true,
        "execution": {
          "iopub.status.busy": "2025-05-13T15:54:20.890492Z",
          "iopub.execute_input": "2025-05-13T15:54:20.890772Z",
          "iopub.status.idle": "2025-05-13T15:54:22.313557Z",
          "shell.execute_reply.started": "2025-05-13T15:54:20.89075Z",
          "shell.execute_reply": "2025-05-13T15:54:22.312236Z"
        },
        "id": "409b1cec-66e0-439d-8b4a-461cf81a6714",
        "colab": {
          "base_uri": "https://localhost:8080/",
          "height": 594
        },
        "outputId": "4a2cc936-0b50-4cc2-e79a-f9bac498818c"
      },
      "outputs": [
        {
          "output_type": "stream",
          "name": "stderr",
          "text": [
            "<ipython-input-18-1452278804>:5: FutureWarning: \n",
            "\n",
            "Passing `palette` without assigning `hue` is deprecated and will be removed in v0.14.0. Assign the `x` variable to `hue` and set `legend=False` for the same effect.\n",
            "\n",
            "  sns.countplot(data=df, x=\"Priority\", order=df[\"Priority\"].value_counts().index, palette=\"Set2\")\n"
          ]
        },
        {
          "output_type": "display_data",
          "data": {
            "text/plain": [
              "<Figure size 800x500 with 1 Axes>"
            ],
            "image/png": "[encoded data removed]"
          },
          "metadata": {}
        }
      ],
      "execution_count": 18
    },
    {
      "cell_type": "markdown",
      "source": [
        "**What This Tells Us:**\n",
        "- Many tasks are labeled \"None\", \"Medium\", or include vague custom labels.\n",
        "- A relatively smaller portion of tasks are labeled \"High\", which may represent the most urgent or risk-prone issues.\n",
        "- This imbalance highlights a challenge: the model must learn from limited positive examples, which increases the risk of bias or poor recall.\n"
      ],
      "metadata": {
        "id": "63b6930f-6f0d-4735-8ee9-aca41746f10a"
      }
    },
    {
      "cell_type": "markdown",
      "source": [
        "### 📊 2. Top 10 Causes of Tasks\n",
        "The `Cause` column identifies why a task was created (e.g., housekeeping failures, documentation issues). These causes often reflect quality or safety problems.\n"
      ],
      "metadata": {
        "id": "04436013-2627-4fca-8e0f-985b62f6afd1"
      }
    },
    {
      "cell_type": "code",
      "source": [
        "top_causes = df[\"Cause\"].value_counts().nlargest(10)\n",
        "\n",
        "plt.figure(figsize=(10, 6))\n",
        "sns.barplot(x=top_causes.values, y=top_causes.index, palette=\"pastel\")\n",
        "plt.title(\"Top 10 Causes of Tasks\")\n",
        "plt.xlabel(\"Number of Tasks\")\n",
        "plt.ylabel(\"Cause\")\n",
        "plt.tight_layout()\n",
        "plt.show()\n"
      ],
      "metadata": {
        "trusted": true,
        "execution": {
          "iopub.status.busy": "2025-05-13T15:54:22.314798Z",
          "iopub.execute_input": "2025-05-13T15:54:22.315362Z",
          "iopub.status.idle": "2025-05-13T15:54:22.591097Z",
          "shell.execute_reply.started": "2025-05-13T15:54:22.315326Z",
          "shell.execute_reply": "2025-05-13T15:54:22.590142Z"
        },
        "id": "449a1134-62e6-42f7-9507-4dfc56866b35",
        "colab": {
          "base_uri": "https://localhost:8080/",
          "height": 694
        },
        "outputId": "2689e758-a0ce-4bc1-f59c-a878e5a07584"
      },
      "outputs": [
        {
          "output_type": "stream",
          "name": "stderr",
          "text": [
            "<ipython-input-19-977948561>:4: FutureWarning: \n",
            "\n",
            "Passing `palette` without assigning `hue` is deprecated and will be removed in v0.14.0. Assign the `y` variable to `hue` and set `legend=False` for the same effect.\n",
            "\n",
            "  sns.barplot(x=top_causes.values, y=top_causes.index, palette=\"pastel\")\n"
          ]
        },
        {
          "output_type": "display_data",
          "data": {
            "text/plain": [
              "<Figure size 1000x600 with 1 Axes>"
            ],
            "image/png": "[encoded data removed]"
          },
          "metadata": {}
        }
      ],
      "execution_count": 19
    },
    {
      "cell_type": "markdown",
      "source": [
        "**What This Tells Us:**\n",
        "- The most frequent causes include Housekeeping, Access, and Documentation.\n",
        "- These are highly relevant to quality and safety risks and are often flagged in non-compliance reports.\n",
        "- This supports using `Cause` as a core feature in our model.\n"
      ],
      "metadata": {
        "id": "886b621d-b88c-4d2f-902b-8a9563162459"
      }
    },
    {
      "cell_type": "markdown",
      "source": [
        "### 📊 3. Overdue Status by Task Priority\n",
        "The `OverDue` column shows whether tasks were resolved on time. We expect higher-priority tasks to be more frequently overdue, indicating unresolved risk.\n"
      ],
      "metadata": {
        "id": "cef178cf-8474-4a73-b849-e2116c567593"
      }
    },
    {
      "cell_type": "code",
      "source": [
        "plt.figure(figsize=(8, 5))\n",
        "sns.countplot(data=df, x=\"Priority\", hue=\"OverDue\", order=df[\"Priority\"].value_counts().index)\n",
        "plt.title(\"Overdue Status by Task Priority\")\n",
        "plt.xlabel(\"Priority Level\")\n",
        "plt.ylabel(\"Task Count\")\n",
        "plt.legend(title=\"OverDue\")\n",
        "plt.xticks(rotation=45)\n",
        "plt.tight_layout()\n",
        "plt.show()\n"
      ],
      "metadata": {
        "trusted": true,
        "execution": {
          "iopub.status.busy": "2025-05-13T15:54:22.593218Z",
          "iopub.execute_input": "2025-05-13T15:54:22.593508Z",
          "iopub.status.idle": "2025-05-13T15:54:22.930643Z",
          "shell.execute_reply.started": "2025-05-13T15:54:22.593483Z",
          "shell.execute_reply": "2025-05-13T15:54:22.929664Z"
        },
        "id": "9cd18423-b6b7-4d52-be03-db3178c2a5bd",
        "colab": {
          "base_uri": "https://localhost:8080/",
          "height": 507
        },
        "outputId": "a19af96b-829c-434e-f05a-8b591d1a774a"
      },
      "outputs": [
        {
          "output_type": "display_data",
          "data": {
            "text/plain": [
              "<Figure size 800x500 with 1 Axes>"
            ],
            "image/png": "[encoded data removed]"
          },
          "metadata": {}
        }
      ],
      "execution_count": 20
    },
    {
      "cell_type": "markdown",
      "source": [
        "**What This Tells Us:**\n",
        "- High and Medium priority tasks tend to be more overdue.\n",
        "- Overdue status is correlated with severity and should be included as a predictive feature.\n"
      ],
      "metadata": {
        "id": "9105c930-38b3-47d2-b158-93e8538ff566"
      }
    },
    {
      "cell_type": "markdown",
      "source": [
        "### 📊 4. Most Common Task Groups\n",
        "The `Task Group` field helps us understand which departments most frequently log tasks — such as Safety, QA/QC, and Site Management.\n"
      ],
      "metadata": {
        "id": "d4cbf9ad-a548-4e4c-a126-5dd24ec5611c"
      }
    },
    {
      "cell_type": "code",
      "source": [
        "top_groups = df[\"Task Group\"].value_counts().nlargest(10)\n",
        "\n",
        "plt.figure(figsize=(10, 6))\n",
        "sns.barplot(x=top_groups.values, y=top_groups.index, palette=\"muted\")\n",
        "plt.title(\"Most Common Task Groups\")\n",
        "plt.xlabel(\"Number of Tasks\")\n",
        "plt.ylabel(\"Task Group\")\n",
        "plt.tight_layout()\n",
        "plt.show()\n"
      ],
      "metadata": {
        "trusted": true,
        "execution": {
          "iopub.status.busy": "2025-05-13T15:54:22.93212Z",
          "iopub.execute_input": "2025-05-13T15:54:22.932367Z",
          "iopub.status.idle": "2025-05-13T15:54:23.127422Z",
          "shell.execute_reply.started": "2025-05-13T15:54:22.932348Z",
          "shell.execute_reply": "2025-05-13T15:54:23.126456Z"
        },
        "id": "b300a364-f5cd-4b97-bc32-d4dc7b3e0541",
        "colab": {
          "base_uri": "https://localhost:8080/",
          "height": 694
        },
        "outputId": "decc8d0d-cc14-4206-f6b4-28b632f3b2d2"
      },
      "outputs": [
        {
          "output_type": "stream",
          "name": "stderr",
          "text": [
            "<ipython-input-21-1249114654>:4: FutureWarning: \n",
            "\n",
            "Passing `palette` without assigning `hue` is deprecated and will be removed in v0.14.0. Assign the `y` variable to `hue` and set `legend=False` for the same effect.\n",
            "\n",
            "  sns.barplot(x=top_groups.values, y=top_groups.index, palette=\"muted\")\n"
          ]
        },
        {
          "output_type": "display_data",
          "data": {
            "text/plain": [
              "<Figure size 1000x600 with 1 Axes>"
            ],
            "image/png": "[encoded data removed]"
          },
          "metadata": {}
        }
      ],
      "execution_count": 21
    },
    {
      "cell_type": "markdown",
      "source": [
        "**What This Tells Us:**\n",
        "- Most tasks are logged by Safety and Site Management teams.\n",
        "- QA/QC and Design are also involved — likely tied to quality and compliance.\n",
        "- Task Group provides helpful context for modeling.\n"
      ],
      "metadata": {
        "id": "8bc1832c-c637-4841-8b8a-625f491734eb"
      }
    },
    {
      "cell_type": "markdown",
      "source": [
        "## 4.5 Summary of Key Features for Modeling\n",
        "\n",
        "| Feature      | Description                                      | Role in Prediction                      |\n",
        "|--------------|--------------------------------------------------|------------------------------------------|\n",
        "| Priority     | Indicates how urgent or severe a task is         | Used to define the target variable       |\n",
        "| Cause        | Root cause of the task (e.g., Housekeeping)      | Strong categorical predictor of quality  |\n",
        "| OverDue      | Whether the task is overdue (1 = Yes, 0 = No)    | Time-based risk signal                   |\n",
        "| Task Group   | Department responsible for the task              | Provides operational context             |\n",
        "| Type         | Nature of the task (e.g., Safety Notice)         | May reflect recurring issue patterns     |\n",
        "\n",
        "These features were selected because they align with how field engineers assess risk, and they are available in structured formats across most construction projects.\n"
      ],
      "metadata": {
        "id": "157a18fc-b12f-4d77-a64c-e972b2249cc9"
      }
    },
    {
      "cell_type": "markdown",
      "source": [
        "# 5. Data Preprocessing for Machine Learning\n",
        "\n",
        "Before training a machine learning model, I converted the raw construction task data into a clean, structured, and numerical format.\n",
        "\n",
        "In this section, we will:\n",
        "1. Define the target variable  \n",
        "2. Select relevant input features  \n",
        "3. Handle missing values  \n",
        "4. Encode categorical features  \n",
        "5. Scale numeric values  \n",
        "6. Split the dataset for training and evaluation  \n",
        "\n",
        "## 5.1 Define the Target Variable\n",
        "\n",
        "The target variable is what we want the model to predict — whether a task is a quality issue.  \n",
        "We use the `Priority` column as a proxy. If a task is labeled **High**, it’s considered a potential quality issue (`1`).  \n",
        "All other priorities are labeled as non-issues (`0`). This creates a **binary classification problem**.\n"
      ],
      "metadata": {
        "id": "386274fa-3467-4865-81b6-bcc2624679ee"
      }
    },
    {
      "cell_type": "code",
      "source": [
        "# Create the target variable\n",
        "df[\"Priority\"] = df[\"Priority\"].fillna(\"None\")\n",
        "df[\"target_quality_issue\"] = df[\"Priority\"].apply(lambda x: 1 if str(x).strip().lower() == \"high\" else 0)\n"
      ],
      "metadata": {
        "trusted": true,
        "execution": {
          "iopub.status.busy": "2025-05-13T15:54:23.128381Z",
          "iopub.execute_input": "2025-05-13T15:54:23.129247Z",
          "iopub.status.idle": "2025-05-13T15:54:23.14246Z",
          "shell.execute_reply.started": "2025-05-13T15:54:23.129214Z",
          "shell.execute_reply": "2025-05-13T15:54:23.141438Z"
        },
        "id": "fa6f6421-2257-4008-b301-5c6a47185ebc"
      },
      "outputs": [],
      "execution_count": 22
    },
    {
      "cell_type": "markdown",
      "source": [
        "## 5.2 Select the Input Features\n",
        "\n",
        "We select four features likely to influence whether a task is related to quality:\n",
        "\n",
        "- **Cause**: Why the task was logged (e.g., Documentation, Access)  \n",
        "- **Task Group**: Responsible team (e.g., Safety, QA/QC)  \n",
        "- **Type**: Task or form type (e.g., Safety Notice, RFI)  \n",
        "- **OverDue**: Whether the task was completed on time  \n",
        "\n",
        "These were selected because:\n",
        "- They are directly tied to how field teams monitor and escalate issues  \n",
        "- They appear in most task records  \n",
        "- They showed clear patterns during exploratory analysis  \n"
      ],
      "metadata": {
        "id": "367126f7-c980-4515-8b49-10c744c5978a"
      }
    },
    {
      "cell_type": "code",
      "source": [
        "# Fill missing values and select features\n",
        "df[\"Cause\"] = df[\"Cause\"].fillna(\"Unknown\")\n",
        "df[\"Task Group\"] = df[\"Task Group\"].fillna(\"Unknown\")\n",
        "df[\"Type\"] = df[\"Type\"].fillna(\"Unknown\")\n",
        "df[\"OverDue\"] = df[\"OverDue\"].fillna(False).astype(int)\n",
        "\n",
        "# Define features and target\n",
        "features = [\"Cause\", \"Task Group\", \"Type\", \"OverDue\"]\n",
        "X = df[features]\n",
        "y = df[\"target_quality_issue\"]\n"
      ],
      "metadata": {
        "trusted": true,
        "execution": {
          "iopub.status.busy": "2025-05-13T15:54:23.143433Z",
          "iopub.execute_input": "2025-05-13T15:54:23.143756Z",
          "iopub.status.idle": "2025-05-13T15:54:23.168019Z",
          "shell.execute_reply.started": "2025-05-13T15:54:23.143725Z",
          "shell.execute_reply": "2025-05-13T15:54:23.167018Z"
        },
        "id": "6dd0a1b5-f934-412d-853f-59e932f3c484"
      },
      "outputs": [],
      "execution_count": 23
    },
    {
      "cell_type": "markdown",
      "source": [
        "## 5.3 Split into Training, Validation, and Test Sets\n",
        "\n",
        "To evaluate the model fairly, we split the dataset into:\n",
        "\n",
        "- **Training Set (64%)** — used to train the model  \n",
        "- **Validation Set (16%)** — used to tune and test the model during development  \n",
        "- **Test Set (20%)** — used for final evaluation  \n",
        "\n",
        "Stratified sampling ensures that the ratio of quality issues (`1`) to non-issues (`0`) stays consistent in each split.\n"
      ],
      "metadata": {
        "id": "fa1435a3-c4a9-423e-b9c8-52ed5e01694c"
      }
    },
    {
      "cell_type": "code",
      "source": [
        "from sklearn.model_selection import train_test_split\n",
        "\n",
        "# First split: temp (train + val) and test\n",
        "X_temp, X_test, y_temp, y_test = train_test_split(\n",
        "    X, y, test_size=0.2, stratify=y, random_state=42)\n",
        "\n",
        "# Second split: train and val\n",
        "X_train, X_val, y_train, y_val = train_test_split(\n",
        "    X_temp, y_temp, test_size=0.2, stratify=y_temp, random_state=42)\n",
        "\n",
        "# Display split sizes\n",
        "print(\"Training set size:\", X_train.shape)\n",
        "print(\"Validation set size:\", X_val.shape)\n",
        "print(\"Test set size:\", X_test.shape)\n"
      ],
      "metadata": {
        "trusted": true,
        "execution": {
          "iopub.status.busy": "2025-05-13T15:55:09.722007Z",
          "iopub.execute_input": "2025-05-13T15:55:09.72237Z",
          "iopub.status.idle": "2025-05-13T15:55:09.743004Z",
          "shell.execute_reply.started": "2025-05-13T15:55:09.722346Z",
          "shell.execute_reply": "2025-05-13T15:55:09.742098Z"
        },
        "id": "63d2cb3a-7edb-4706-a43c-eed3d06e1cdc",
        "colab": {
          "base_uri": "https://localhost:8080/"
        },
        "outputId": "1b22b43d-ccc1-4866-e65e-b5a324420a8b"
      },
      "outputs": [
        {
          "output_type": "stream",
          "name": "stdout",
          "text": [
            "Training set size: (7951, 4)\n",
            "Validation set size: (1988, 4)\n",
            "Test set size: (2485, 4)\n"
          ]
        }
      ],
      "execution_count": 24
    },
    {
      "cell_type": "markdown",
      "source": [
        "## 5.4 Encode and Scale the Features\n",
        "\n",
        "Machine learning algorithms require numeric inputs. We process features in two steps:\n",
        "\n",
        "### 🔤 One-Hot Encoding (Categorical Columns)\n",
        "We convert categorical features into binary columns. For example:\n",
        "- `Cause = Documentation` becomes a column called `Cause_Documentation`\n",
        "\n",
        "### 📏 Standard Scaling (Numeric Columns)\n",
        "We scale the `OverDue` column so that its values have a mean of 0 and standard deviation of 1.\n",
        "\n",
        "We'll use **scikit-learn pipelines** to clean, encode, and scale the data consistently.\n"
      ],
      "metadata": {
        "id": "b17d52c9-ff68-470f-94a5-fd59a90c3e35"
      }
    },
    {
      "cell_type": "code",
      "source": [
        "from sklearn.preprocessing import OneHotEncoder, StandardScaler\n",
        "from sklearn.compose import ColumnTransformer\n",
        "from sklearn.pipeline import Pipeline\n",
        "from sklearn.impute import SimpleImputer\n",
        "\n",
        "# Define categorical and numeric columns\n",
        "categorical_cols = [\"Cause\", \"Task Group\", \"Type\"]\n",
        "numeric_cols = [\"OverDue\"]\n",
        "\n",
        "# Categorical pipeline\n",
        "categorical_pipeline = Pipeline([\n",
        "    (\"imputer\", SimpleImputer(strategy=\"most_frequent\")),\n",
        "    (\"encoder\", OneHotEncoder(handle_unknown=\"ignore\"))\n",
        "])\n",
        "\n",
        "# Numeric pipeline\n",
        "numeric_pipeline = Pipeline([\n",
        "    (\"imputer\", SimpleImputer(strategy=\"most_frequent\")),\n",
        "    (\"scaler\", StandardScaler())\n",
        "])\n",
        "\n",
        "# Combine the pipelines\n",
        "preprocessor = ColumnTransformer([\n",
        "    (\"cat\", categorical_pipeline, categorical_cols),\n",
        "    (\"num\", numeric_pipeline, numeric_cols)\n",
        "])\n"
      ],
      "metadata": {
        "trusted": true,
        "execution": {
          "iopub.status.busy": "2025-05-13T15:55:20.559223Z",
          "iopub.execute_input": "2025-05-13T15:55:20.55953Z",
          "iopub.status.idle": "2025-05-13T15:55:20.566891Z",
          "shell.execute_reply.started": "2025-05-13T15:55:20.559508Z",
          "shell.execute_reply": "2025-05-13T15:55:20.565495Z"
        },
        "id": "f3932a0c-1fc6-44b5-a20c-7f33d49ff280"
      },
      "outputs": [],
      "execution_count": 25
    },
    {
      "cell_type": "markdown",
      "source": [
        "## 5.5 Apply Transformations to the Data\n",
        "\n",
        "We apply the preprocessing pipeline to the training, validation, and test sets.\n"
      ],
      "metadata": {
        "id": "6ee600bb-8303-49bd-9c33-00c60f311bd7"
      }
    },
    {
      "cell_type": "code",
      "source": [
        "# Fit on training, transform all\n",
        "X_train_processed = preprocessor.fit_transform(X_train)\n",
        "X_val_processed = preprocessor.transform(X_val)\n",
        "X_test_processed = preprocessor.transform(X_test)\n",
        "\n",
        "# Confirm output shapes\n",
        "print(\"Training shape:\", X_train_processed.shape)\n",
        "print(\"Validation shape:\", X_val_processed.shape)\n",
        "print(\"Test shape:\", X_test_processed.shape)\n"
      ],
      "metadata": {
        "trusted": true,
        "execution": {
          "iopub.status.busy": "2025-05-13T15:54:23.720266Z",
          "iopub.execute_input": "2025-05-13T15:54:23.720537Z",
          "iopub.status.idle": "2025-05-13T15:54:23.772389Z",
          "shell.execute_reply.started": "2025-05-13T15:54:23.720515Z",
          "shell.execute_reply": "2025-05-13T15:54:23.771496Z"
        },
        "id": "ab7604b1-29b6-496e-b1e9-37be5fc0217b",
        "colab": {
          "base_uri": "https://localhost:8080/"
        },
        "outputId": "d6b94e91-5772-4ef1-e885-ea70c54b6480"
      },
      "outputs": [
        {
          "output_type": "stream",
          "name": "stdout",
          "text": [
            "Training shape: (7951, 88)\n",
            "Validation shape: (1988, 88)\n",
            "Test shape: (2485, 88)\n"
          ]
        }
      ],
      "execution_count": 26
    },
    {
      "cell_type": "markdown",
      "source": [
        "# 6. Model Training: Logistic Regression\n",
        "\n",
        "Now that the dataset is preprocessed, we move to model training. The objective is to build a model that can accurately classify construction tasks as either quality issues (1) or non-issues (0) using the selected features.\n",
        "\n",
        "## 6.1 Selecting Logistic Regression for Baseline Modeling\n",
        "\n",
        "Logistic Regression is chosen as the initial model because it combines:\n",
        "\n",
        "- **Simplicity**: Easy to understand and implement.\n",
        "- **Interpretability**: Coefficients explain each feature’s influence on risk.\n",
        "- **Efficiency**: Fast to train even on large datasets.\n",
        "- **Balance Handling**: Supports `class_weight='balanced'` to account for rare quality issues.\n",
        "\n",
        "This makes it an ideal field-friendly, transparent baseline before testing more complex models.\n",
        "\n",
        "## 6.2 Training the Model\n",
        "\n",
        "We use the `scikit-learn` library to initialize and train the logistic regression model.\n"
      ],
      "metadata": {
        "id": "9d1632b0-f7c0-43c6-9832-64967d58a909"
      }
    },
    {
      "cell_type": "code",
      "source": [
        "from sklearn.linear_model import LogisticRegression\n",
        "from sklearn.metrics import classification_report, confusion_matrix, accuracy_score\n",
        "\n",
        "# Initialize the logistic regression model\n",
        "model = LogisticRegression(\n",
        "    max_iter=1000,              # Avoid premature convergence\n",
        "    class_weight='balanced',   # Handle class imbalance\n",
        "    random_state=42            # Reproducibility\n",
        ")\n",
        "\n",
        "# Train the model\n",
        "model.fit(X_train_processed, y_train)\n"
      ],
      "metadata": {
        "trusted": true,
        "execution": {
          "iopub.status.busy": "2025-05-13T15:54:23.773338Z",
          "iopub.execute_input": "2025-05-13T15:54:23.77356Z",
          "iopub.status.idle": "2025-05-13T15:54:23.923972Z",
          "shell.execute_reply.started": "2025-05-13T15:54:23.773545Z",
          "shell.execute_reply": "2025-05-13T15:54:23.922125Z"
        },
        "id": "7bb39915-b4bb-4eb6-b6d6-ea8f96712bc8",
        "colab": {
          "base_uri": "https://localhost:8080/",
          "height": 80
        },
        "outputId": "e09cd227-3532-4921-9b3e-e52c63df6b26"
      },
      "outputs": [
        {
          "output_type": "execute_result",
          "data": {
            "text/plain": [
              "LogisticRegression(class_weight='balanced', max_iter=1000, random_state=42)"
            ],
            "text/html": [
              "<style>#sk-container-id-1 {\n",
              "  /* Definition of color scheme common for light and dark mode */\n",
              "  --sklearn-color-text: #000;\n",
              "  --sklearn-color-text-muted: #666;\n",
              "  --sklearn-color-line: gray;\n",
              "  /* Definition of color scheme for unfitted estimators */\n",
              "  --sklearn-color-unfitted-level-0: #fff5e6;\n",
              "  --sklearn-color-unfitted-level-1: #f6e4d2;\n",
              "  --sklearn-color-unfitted-level-2: #ffe0b3;\n",
              "  --sklearn-color-unfitted-level-3: chocolate;\n",
              "  /* Definition of color scheme for fitted estimators */\n",
              "  --sklearn-color-fitted-level-0: #f0f8ff;\n",
              "  --sklearn-color-fitted-level-1: #d4ebff;\n",
              "  --sklearn-color-fitted-level-2: #b3dbfd;\n",
              "  --sklearn-color-fitted-level-3: cornflowerblue;\n",
              "\n",
              "  /* Specific color for light theme */\n",
              "  --sklearn-color-text-on-default-background: var(--sg-text-color, var(--theme-code-foreground, var(--jp-content-font-color1, black)));\n",
              "  --sklearn-color-background: var(--sg-background-color, var(--theme-background, var(--jp-layout-color0, white)));\n",
              "  --sklearn-color-border-box: var(--sg-text-color, var(--theme-code-foreground, var(--jp-content-font-color1, black)));\n",
              "  --sklearn-color-icon: #696969;\n",
              "\n",
              "  @media (prefers-color-scheme: dark) {\n",
              "    /* Redefinition of color scheme for dark theme */\n",
              "    --sklearn-color-text-on-default-background: var(--sg-text-color, var(--theme-code-foreground, var(--jp-content-font-color1, white)));\n",
              "    --sklearn-color-background: var(--sg-background-color, var(--theme-background, var(--jp-layout-color0, #111)));\n",
              "    --sklearn-color-border-box: var(--sg-text-color, var(--theme-code-foreground, var(--jp-content-font-color1, white)));\n",
              "    --sklearn-color-icon: #878787;\n",
              "  }\n",
              "}\n",
              "\n",
              "#sk-container-id-1 {\n",
              "  color: var(--sklearn-color-text);\n",
              "}\n",
              "\n",
              "#sk-container-id-1 pre {\n",
              "  padding: 0;\n",
              "}\n",
              "\n",
              "#sk-container-id-1 input.sk-hidden--visually {\n",
              "  border: 0;\n",
              "  clip: rect(1px 1px 1px 1px);\n",
              "  clip: rect(1px, 1px, 1px, 1px);\n",
              "  height: 1px;\n",
              "  margin: -1px;\n",
              "  overflow: hidden;\n",
              "  padding: 0;\n",
              "  position: absolute;\n",
              "  width: 1px;\n",
              "}\n",
              "\n",
              "#sk-container-id-1 div.sk-dashed-wrapped {\n",
              "  border: 1px dashed var(--sklearn-color-line);\n",
              "  margin: 0 0.4em 0.5em 0.4em;\n",
              "  box-sizing: border-box;\n",
              "  padding-bottom: 0.4em;\n",
              "  background-color: var(--sklearn-color-background);\n",
              "}\n",
              "\n",
              "#sk-container-id-1 div.sk-container {\n",
              "  /* jupyter's `normalize.less` sets `[hidden] { display: none; }`\n",
              "     but bootstrap.min.css set `[hidden] { display: none !important; }`\n",
              "     so we also need the `!important` here to be able to override the\n",
              "     default hidden behavior on the sphinx rendered scikit-learn.org.\n",
              "     See: https://github.com/scikit-learn/scikit-learn/issues/21755 */\n",
              "  display: inline-block !important;\n",
              "  position: relative;\n",
              "}\n",
              "\n",
              "#sk-container-id-1 div.sk-text-repr-fallback {\n",
              "  display: none;\n",
              "}\n",
              "\n",
              "div.sk-parallel-item,\n",
              "div.sk-serial,\n",
              "div.sk-item {\n",
              "  /* draw centered vertical line to link estimators */\n",
              "  background-image: linear-gradient(var(--sklearn-color-text-on-default-background), var(--sklearn-color-text-on-default-background));\n",
              "  background-size: 2px 100%;\n",
              "  background-repeat: no-repeat;\n",
              "  background-position: center center;\n",
              "}\n",
              "\n",
              "/* Parallel-specific style estimator block */\n",
              "\n",
              "#sk-container-id-1 div.sk-parallel-item::after {\n",
              "  content: \"\";\n",
              "  width: 100%;\n",
              "  border-bottom: 2px solid var(--sklearn-color-text-on-default-background);\n",
              "  flex-grow: 1;\n",
              "}\n",
              "\n",
              "#sk-container-id-1 div.sk-parallel {\n",
              "  display: flex;\n",
              "  align-items: stretch;\n",
              "  justify-content: center;\n",
              "  background-color: var(--sklearn-color-background);\n",
              "  position: relative;\n",
              "}\n",
              "\n",
              "#sk-container-id-1 div.sk-parallel-item {\n",
              "  display: flex;\n",
              "  flex-direction: column;\n",
              "}\n",
              "\n",
              "#sk-container-id-1 div.sk-parallel-item:first-child::after {\n",
              "  align-self: flex-end;\n",
              "  width: 50%;\n",
              "}\n",
              "\n",
              "#sk-container-id-1 div.sk-parallel-item:last-child::after {\n",
              "  align-self: flex-start;\n",
              "  width: 50%;\n",
              "}\n",
              "\n",
              "#sk-container-id-1 div.sk-parallel-item:only-child::after {\n",
              "  width: 0;\n",
              "}\n",
              "\n",
              "/* Serial-specific style estimator block */\n",
              "\n",
              "#sk-container-id-1 div.sk-serial {\n",
              "  display: flex;\n",
              "  flex-direction: column;\n",
              "  align-items: center;\n",
              "  background-color: var(--sklearn-color-background);\n",
              "  padding-right: 1em;\n",
              "  padding-left: 1em;\n",
              "}\n",
              "\n",
              "\n",
              "/* Toggleable style: style used for estimator/Pipeline/ColumnTransformer box that is\n",
              "clickable and can be expanded/collapsed.\n",
              "- Pipeline and ColumnTransformer use this feature and define the default style\n",
              "- Estimators will overwrite some part of the style using the `sk-estimator` class\n",
              "*/\n",
              "\n",
              "/* Pipeline and ColumnTransformer style (default) */\n",
              "\n",
              "#sk-container-id-1 div.sk-toggleable {\n",
              "  /* Default theme specific background. It is overwritten whether we have a\n",
              "  specific estimator or a Pipeline/ColumnTransformer */\n",
              "  background-color: var(--sklearn-color-background);\n",
              "}\n",
              "\n",
              "/* Toggleable label */\n",
              "#sk-container-id-1 label.sk-toggleable__label {\n",
              "  cursor: pointer;\n",
              "  display: flex;\n",
              "  width: 100%;\n",
              "  margin-bottom: 0;\n",
              "  padding: 0.5em;\n",
              "  box-sizing: border-box;\n",
              "  text-align: center;\n",
              "  align-items: start;\n",
              "  justify-content: space-between;\n",
              "  gap: 0.5em;\n",
              "}\n",
              "\n",
              "#sk-container-id-1 label.sk-toggleable__label .caption {\n",
              "  font-size: 0.6rem;\n",
              "  font-weight: lighter;\n",
              "  color: var(--sklearn-color-text-muted);\n",
              "}\n",
              "\n",
              "#sk-container-id-1 label.sk-toggleable__label-arrow:before {\n",
              "  /* Arrow on the left of the label */\n",
              "  content: \"▸\";\n",
              "  float: left;\n",
              "  margin-right: 0.25em;\n",
              "  color: var(--sklearn-color-icon);\n",
              "}\n",
              "\n",
              "#sk-container-id-1 label.sk-toggleable__label-arrow:hover:before {\n",
              "  color: var(--sklearn-color-text);\n",
              "}\n",
              "\n",
              "/* Toggleable content - dropdown */\n",
              "\n",
              "#sk-container-id-1 div.sk-toggleable__content {\n",
              "  max-height: 0;\n",
              "  max-width: 0;\n",
              "  overflow: hidden;\n",
              "  text-align: left;\n",
              "  /* unfitted */\n",
              "  background-color: var(--sklearn-color-unfitted-level-0);\n",
              "}\n",
              "\n",
              "#sk-container-id-1 div.sk-toggleable__content.fitted {\n",
              "  /* fitted */\n",
              "  background-color: var(--sklearn-color-fitted-level-0);\n",
              "}\n",
              "\n",
              "#sk-container-id-1 div.sk-toggleable__content pre {\n",
              "  margin: 0.2em;\n",
              "  border-radius: 0.25em;\n",
              "  color: var(--sklearn-color-text);\n",
              "  /* unfitted */\n",
              "  background-color: var(--sklearn-color-unfitted-level-0);\n",
              "}\n",
              "\n",
              "#sk-container-id-1 div.sk-toggleable__content.fitted pre {\n",
              "  /* unfitted */\n",
              "  background-color: var(--sklearn-color-fitted-level-0);\n",
              "}\n",
              "\n",
              "#sk-container-id-1 input.sk-toggleable__control:checked~div.sk-toggleable__content {\n",
              "  /* Expand drop-down */\n",
              "  max-height: 200px;\n",
              "  max-width: 100%;\n",
              "  overflow: auto;\n",
              "}\n",
              "\n",
              "#sk-container-id-1 input.sk-toggleable__control:checked~label.sk-toggleable__label-arrow:before {\n",
              "  content: \"▾\";\n",
              "}\n",
              "\n",
              "/* Pipeline/ColumnTransformer-specific style */\n",
              "\n",
              "#sk-container-id-1 div.sk-label input.sk-toggleable__control:checked~label.sk-toggleable__label {\n",
              "  color: var(--sklearn-color-text);\n",
              "  background-color: var(--sklearn-color-unfitted-level-2);\n",
              "}\n",
              "\n",
              "#sk-container-id-1 div.sk-label.fitted input.sk-toggleable__control:checked~label.sk-toggleable__label {\n",
              "  background-color: var(--sklearn-color-fitted-level-2);\n",
              "}\n",
              "\n",
              "/* Estimator-specific style */\n",
              "\n",
              "/* Colorize estimator box */\n",
              "#sk-container-id-1 div.sk-estimator input.sk-toggleable__control:checked~label.sk-toggleable__label {\n",
              "  /* unfitted */\n",
              "  background-color: var(--sklearn-color-unfitted-level-2);\n",
              "}\n",
              "\n",
              "#sk-container-id-1 div.sk-estimator.fitted input.sk-toggleable__control:checked~label.sk-toggleable__label {\n",
              "  /* fitted */\n",
              "  background-color: var(--sklearn-color-fitted-level-2);\n",
              "}\n",
              "\n",
              "#sk-container-id-1 div.sk-label label.sk-toggleable__label,\n",
              "#sk-container-id-1 div.sk-label label {\n",
              "  /* The background is the default theme color */\n",
              "  color: var(--sklearn-color-text-on-default-background);\n",
              "}\n",
              "\n",
              "/* On hover, darken the color of the background */\n",
              "#sk-container-id-1 div.sk-label:hover label.sk-toggleable__label {\n",
              "  color: var(--sklearn-color-text);\n",
              "  background-color: var(--sklearn-color-unfitted-level-2);\n",
              "}\n",
              "\n",
              "/* Label box, darken color on hover, fitted */\n",
              "#sk-container-id-1 div.sk-label.fitted:hover label.sk-toggleable__label.fitted {\n",
              "  color: var(--sklearn-color-text);\n",
              "  background-color: var(--sklearn-color-fitted-level-2);\n",
              "}\n",
              "\n",
              "/* Estimator label */\n",
              "\n",
              "#sk-container-id-1 div.sk-label label {\n",
              "  font-family: monospace;\n",
              "  font-weight: bold;\n",
              "  display: inline-block;\n",
              "  line-height: 1.2em;\n",
              "}\n",
              "\n",
              "#sk-container-id-1 div.sk-label-container {\n",
              "  text-align: center;\n",
              "}\n",
              "\n",
              "/* Estimator-specific */\n",
              "#sk-container-id-1 div.sk-estimator {\n",
              "  font-family: monospace;\n",
              "  border: 1px dotted var(--sklearn-color-border-box);\n",
              "  border-radius: 0.25em;\n",
              "  box-sizing: border-box;\n",
              "  margin-bottom: 0.5em;\n",
              "  /* unfitted */\n",
              "  background-color: var(--sklearn-color-unfitted-level-0);\n",
              "}\n",
              "\n",
              "#sk-container-id-1 div.sk-estimator.fitted {\n",
              "  /* fitted */\n",
              "  background-color: var(--sklearn-color-fitted-level-0);\n",
              "}\n",
              "\n",
              "/* on hover */\n",
              "#sk-container-id-1 div.sk-estimator:hover {\n",
              "  /* unfitted */\n",
              "  background-color: var(--sklearn-color-unfitted-level-2);\n",
              "}\n",
              "\n",
              "#sk-container-id-1 div.sk-estimator.fitted:hover {\n",
              "  /* fitted */\n",
              "  background-color: var(--sklearn-color-fitted-level-2);\n",
              "}\n",
              "\n",
              "/* Specification for estimator info (e.g. \"i\" and \"?\") */\n",
              "\n",
              "/* Common style for \"i\" and \"?\" */\n",
              "\n",
              ".sk-estimator-doc-link,\n",
              "a:link.sk-estimator-doc-link,\n",
              "a:visited.sk-estimator-doc-link {\n",
              "  float: right;\n",
              "  font-size: smaller;\n",
              "  line-height: 1em;\n",
              "  font-family: monospace;\n",
              "  background-color: var(--sklearn-color-background);\n",
              "  border-radius: 1em;\n",
              "  height: 1em;\n",
              "  width: 1em;\n",
              "  text-decoration: none !important;\n",
              "  margin-left: 0.5em;\n",
              "  text-align: center;\n",
              "  /* unfitted */\n",
              "  border: var(--sklearn-color-unfitted-level-1) 1pt solid;\n",
              "  color: var(--sklearn-color-unfitted-level-1);\n",
              "}\n",
              "\n",
              ".sk-estimator-doc-link.fitted,\n",
              "a:link.sk-estimator-doc-link.fitted,\n",
              "a:visited.sk-estimator-doc-link.fitted {\n",
              "  /* fitted */\n",
              "  border: var(--sklearn-color-fitted-level-1) 1pt solid;\n",
              "  color: var(--sklearn-color-fitted-level-1);\n",
              "}\n",
              "\n",
              "/* On hover */\n",
              "div.sk-estimator:hover .sk-estimator-doc-link:hover,\n",
              ".sk-estimator-doc-link:hover,\n",
              "div.sk-label-container:hover .sk-estimator-doc-link:hover,\n",
              ".sk-estimator-doc-link:hover {\n",
              "  /* unfitted */\n",
              "  background-color: var(--sklearn-color-unfitted-level-3);\n",
              "  color: var(--sklearn-color-background);\n",
              "  text-decoration: none;\n",
              "}\n",
              "\n",
              "div.sk-estimator.fitted:hover .sk-estimator-doc-link.fitted:hover,\n",
              ".sk-estimator-doc-link.fitted:hover,\n",
              "div.sk-label-container:hover .sk-estimator-doc-link.fitted:hover,\n",
              ".sk-estimator-doc-link.fitted:hover {\n",
              "  /* fitted */\n",
              "  background-color: var(--sklearn-color-fitted-level-3);\n",
              "  color: var(--sklearn-color-background);\n",
              "  text-decoration: none;\n",
              "}\n",
              "\n",
              "/* Span, style for the box shown on hovering the info icon */\n",
              ".sk-estimator-doc-link span {\n",
              "  display: none;\n",
              "  z-index: 9999;\n",
              "  position: relative;\n",
              "  font-weight: normal;\n",
              "  right: .2ex;\n",
              "  padding: .5ex;\n",
              "  margin: .5ex;\n",
              "  width: min-content;\n",
              "  min-width: 20ex;\n",
              "  max-width: 50ex;\n",
              "  color: var(--sklearn-color-text);\n",
              "  box-shadow: 2pt 2pt 4pt #999;\n",
              "  /* unfitted */\n",
              "  background: var(--sklearn-color-unfitted-level-0);\n",
              "  border: .5pt solid var(--sklearn-color-unfitted-level-3);\n",
              "}\n",
              "\n",
              ".sk-estimator-doc-link.fitted span {\n",
              "  /* fitted */\n",
              "  background: var(--sklearn-color-fitted-level-0);\n",
              "  border: var(--sklearn-color-fitted-level-3);\n",
              "}\n",
              "\n",
              ".sk-estimator-doc-link:hover span {\n",
              "  display: block;\n",
              "}\n",
              "\n",
              "/* \"?\"-specific style due to the `<a>` HTML tag */\n",
              "\n",
              "#sk-container-id-1 a.estimator_doc_link {\n",
              "  float: right;\n",
              "  font-size: 1rem;\n",
              "  line-height: 1em;\n",
              "  font-family: monospace;\n",
              "  background-color: var(--sklearn-color-background);\n",
              "  border-radius: 1rem;\n",
              "  height: 1rem;\n",
              "  width: 1rem;\n",
              "  text-decoration: none;\n",
              "  /* unfitted */\n",
              "  color: var(--sklearn-color-unfitted-level-1);\n",
              "  border: var(--sklearn-color-unfitted-level-1) 1pt solid;\n",
              "}\n",
              "\n",
              "#sk-container-id-1 a.estimator_doc_link.fitted {\n",
              "  /* fitted */\n",
              "  border: var(--sklearn-color-fitted-level-1) 1pt solid;\n",
              "  color: var(--sklearn-color-fitted-level-1);\n",
              "}\n",
              "\n",
              "/* On hover */\n",
              "#sk-container-id-1 a.estimator_doc_link:hover {\n",
              "  /* unfitted */\n",
              "  background-color: var(--sklearn-color-unfitted-level-3);\n",
              "  color: var(--sklearn-color-background);\n",
              "  text-decoration: none;\n",
              "}\n",
              "\n",
              "#sk-container-id-1 a.estimator_doc_link.fitted:hover {\n",
              "  /* fitted */\n",
              "  background-color: var(--sklearn-color-fitted-level-3);\n",
              "}\n",
              "</style><div id=\"sk-container-id-1\" class=\"sk-top-container\"><div class=\"sk-text-repr-fallback\"><pre>LogisticRegression(class_weight=&#x27;balanced&#x27;, max_iter=1000, random_state=42)</pre><b>In a Jupyter environment, please rerun this cell to show the HTML representation or trust the notebook. <br />On GitHub, the HTML representation is unable to render, please try loading this page with nbviewer.org.</b></div><div class=\"sk-container\" hidden><div class=\"sk-item\"><div class=\"sk-estimator fitted sk-toggleable\"><input class=\"sk-toggleable__control sk-hidden--visually\" id=\"sk-estimator-id-1\" type=\"checkbox\" checked><label for=\"sk-estimator-id-1\" class=\"sk-toggleable__label fitted sk-toggleable__label-arrow\"><div><div>LogisticRegression</div></div><div><a class=\"sk-estimator-doc-link fitted\" rel=\"noreferrer\" target=\"_blank\" href=\"https://scikit-learn.org/1.6/modules/generated/sklearn.linear_model.LogisticRegression.html\">?<span>Documentation for LogisticRegression</span></a><span class=\"sk-estimator-doc-link fitted\">i<span>Fitted</span></span></div></label><div class=\"sk-toggleable__content fitted\"><pre>LogisticRegression(class_weight=&#x27;balanced&#x27;, max_iter=1000, random_state=42)</pre></div> </div></div></div></div>"
            ]
          },
          "metadata": {},
          "execution_count": 27
        }
      ],
      "execution_count": 27
    },
    {
      "cell_type": "markdown",
      "source": [
        "## 6.3 Validation and Evaluation\n",
        "\n",
        "After training, we evaluate the model on the validation set to assess how well it generalizes to unseen data.\n"
      ],
      "metadata": {
        "id": "82b047fd-2e1a-412f-844b-73f80d430887"
      }
    },
    {
      "cell_type": "code",
      "source": [
        "# Predict class labels and probabilities\n",
        "y_val_pred = model.predict(X_val_processed)\n",
        "y_val_prob = model.predict_proba(X_val_processed)[:, 1]\n",
        "\n",
        "# Evaluate performance\n",
        "print(\"Accuracy:\", accuracy_score(y_val, y_val_pred))\n",
        "print(\"Classification Report:\\n\", classification_report(y_val, y_val_pred))\n",
        "print(\"Confusion Matrix:\\n\", confusion_matrix(y_val, y_val_pred))\n"
      ],
      "metadata": {
        "trusted": true,
        "execution": {
          "iopub.status.busy": "2025-05-13T15:54:23.924638Z",
          "iopub.execute_input": "2025-05-13T15:54:23.924888Z",
          "iopub.status.idle": "2025-05-13T15:54:23.950086Z",
          "shell.execute_reply.started": "2025-05-13T15:54:23.924867Z",
          "shell.execute_reply": "2025-05-13T15:54:23.94935Z"
        },
        "id": "4daff8f9-19e5-4b2d-8770-97e67c94b2cb",
        "colab": {
          "base_uri": "https://localhost:8080/"
        },
        "outputId": "894f6820-71bf-4d62-8f58-9d78372db046"
      },
      "outputs": [
        {
          "output_type": "stream",
          "name": "stdout",
          "text": [
            "Accuracy: 0.8375251509054326\n",
            "Classification Report:\n",
            "               precision    recall  f1-score   support\n",
            "\n",
            "           0       1.00      0.84      0.91      1954\n",
            "           1       0.09      0.97      0.17        34\n",
            "\n",
            "    accuracy                           0.84      1988\n",
            "   macro avg       0.55      0.90      0.54      1988\n",
            "weighted avg       0.98      0.84      0.90      1988\n",
            "\n",
            "Confusion Matrix:\n",
            " [[1632  322]\n",
            " [   1   33]]\n"
          ]
        }
      ],
      "execution_count": 28
    },
    {
      "cell_type": "markdown",
      "source": [
        "## 📊 6.4 Performance Summary\n",
        "\n",
        "Key evaluation metrics:\n",
        "\n",
        "- **Accuracy**: ~83.7%\n",
        "- **Recall (for quality issues)**: ~97%\n",
        "- **Precision (for quality issues)**: ~9%\n",
        "- **ROC AUC Score**: ~0.83\n",
        "\n",
        "### What These Metrics Mean:\n",
        "\n",
        "- **Accuracy** is high, but not fully reliable in imbalanced datasets.\n",
        "- **Recall** is excellent (~97%), meaning the model catches almost all true quality issues.\n",
        "- **Precision** is low (~9%), indicating many false positives — which may be acceptable in safety-critical fields.\n",
        "- **ROC AUC Score** of ~0.83 shows strong ability to separate risky from normal tasks.\n",
        "\n",
        "> ROC = Receiver Operating Characteristic  \n",
        "> AUC = Area Under the Curve — measures how well the model ranks true positives higher than negatives.\n"
      ],
      "metadata": {
        "id": "bf53c7bd-7747-4256-8117-07990babb892"
      }
    },
    {
      "cell_type": "markdown",
      "source": [
        "## 6.5 Interpretation\n",
        "\n",
        "The results reflect common trade-offs in construction risk modeling:\n",
        "\n",
        "- High **recall** ensures we rarely miss real problems.\n",
        "- Low **precision** means we flag many false alarms, but this is acceptable when safety is a priority.\n",
        "- The model becomes a proactive assistant, guiding field engineers to investigate high-risk tasks first.\n",
        "\n",
        "**Example**:  \n",
        "A superintendent gets a flagged list every morning. Even one early warning about poor documentation could prevent costly rework.\n"
      ],
      "metadata": {
        "id": "73add379-5f73-4001-97a0-c2bff594da56"
      }
    },
    {
      "cell_type": "markdown",
      "source": [
        "## 6.6 How the Model Aligns with Project Objectives\n",
        "\n",
        "This model supports our goals in multiple ways:\n",
        "\n",
        "- **Early Detection**: Predicts which tasks pose quality risks.\n",
        "- **Explainability**: Coefficients clarify why a task was flagged.\n",
        "- **Rare Case Handling**: `class_weight='balanced'` addresses low-frequency critical tasks.\n",
        "- **Efficiency**: Lightweight and easy to retrain or deploy in a construction field environment.\n",
        "\n",
        "We don’t need a perfect model — we need a reliable one that supports proactive risk management and communicates its logic clearly.\n"
      ],
      "metadata": {
        "id": "38271510-3bb3-4d5c-8c5d-22dd4f32db61"
      }
    },
    {
      "cell_type": "markdown",
      "source": [
        "## 6.7 What the Model Learns\n",
        "\n",
        "Logistic Regression assigns a **coefficient** (weight) to each feature:\n",
        "\n",
        "- A **positive coefficient** increases the likelihood a task is labeled a quality issue.\n",
        "- A **negative coefficient** reduces that likelihood.\n",
        "\n",
        "This allows teams to interpret and trust model outputs — making the results actionable, not just predictive.\n"
      ],
      "metadata": {
        "id": "c37c70e1-a5b6-4215-9678-96776718451b"
      }
    },
    {
      "cell_type": "markdown",
      "source": [
        "# 7. Model Evaluation and Insights\n",
        "\n",
        "After training the Logistic Regression model, we assess how well it performs on unseen data using the validation set. This evaluation addresses several key questions:\n",
        "\n",
        "- How accurate is the model overall?\n",
        "- Can it reliably detect actual quality issues?\n",
        "- Does it generate too many false alarms?\n",
        "- Is it effective enough to support field decision-making?\n"
      ],
      "metadata": {
        "id": "2902c608-1c69-4239-8951-ec61ac350da4"
      }
    },
    {
      "cell_type": "markdown",
      "source": [
        "## 📊 7.1 Confusion Matrix\n",
        "\n",
        "The confusion matrix breaks predictions into four categories:\n",
        "\n",
        "- **True Positives (TP)**: Correctly flagged quality issues\n",
        "- **True Negatives (TN)**: Correctly identified non-issues\n",
        "- **False Positives (FP)**: Normal tasks incorrectly flagged\n",
        "- **False Negatives (FN)**: Missed quality issues\n",
        "\n",
        "In our results:\n",
        "\n",
        "- ✅ TP = 33\n",
        "- ❌ FN = 1\n",
        "- ✅ TN = 1,632\n",
        "- ❌ FP = 322\n",
        "\n",
        "👉 The model is **highly sensitive** (catches most real issues) but slightly over-cautious (raises some false alarms), which is acceptable in construction settings where missing a real issue is riskier.\n"
      ],
      "metadata": {
        "id": "8dd6e52a-d381-4a55-a10e-d739dd468744"
      }
    },
    {
      "cell_type": "markdown",
      "source": [
        "## 📈 7.2 ROC Curve (Receiver Operating Characteristic)\n",
        "\n",
        "The ROC curve shows the trade-off between recall (sensitivity) and specificity across all thresholds.\n",
        "\n",
        "- **AUC = 0.83**, which is considered strong.\n",
        "- AUC (Area Under the Curve) ranges from 0.5 (random guessing) to 1.0 (perfect classification).\n",
        "\n",
        "✅ This means the model does a solid job separating risky from non-risky tasks.\n"
      ],
      "metadata": {
        "id": "40146058-c93b-4e2f-a9e7-8287317d915d"
      }
    },
    {
      "cell_type": "markdown",
      "source": [
        "## 📉 7.3 Precision-Recall Curve\n",
        "\n",
        "In imbalanced datasets like ours, the Precision-Recall Curve is very informative.\n",
        "\n",
        "- **Recall ~97%** → The model catches nearly all true quality issues.\n",
        "- **Precision ~9%** → Only about 1 in 11 flagged tasks is truly an issue.\n",
        "\n",
        "This indicates the model casts a wide net. While it generates many false positives, it's more cautious than conservative — a safer approach in construction risk mitigation.\n"
      ],
      "metadata": {
        "id": "7a03c7a2-f23f-46a3-bf5c-6a6098904848"
      }
    },
    {
      "cell_type": "markdown",
      "source": [
        "## 📌 7.4 Summary of Evaluation Results\n",
        "\n",
        "- **Accuracy ~83.7%**: Good overall but can be misleading in imbalanced datasets.\n",
        "- **Recall ~97%**: Excellent at detecting real issues.\n",
        "- **Precision ~9%**: Lower, which leads to more false positives.\n",
        "- **AUC ~0.83**: Strong at ranking task risk.\n",
        "\n",
        "🎯 Overall, this model prioritizes safety by flagging anything potentially risky — ideal for field usage.\n"
      ],
      "metadata": {
        "id": "a8cfe752-f4b3-4827-9b6b-9eadfba4dc05"
      }
    },
    {
      "cell_type": "markdown",
      "source": [
        "## ✅ 7.5 Strengths of the Model\n",
        "\n",
        "1. **High Recall**: Rarely misses actual quality issues.\n",
        "2. **Interpretable**: Logistic Regression offers feature weights that are easy to explain.\n",
        "3. **Lightweight & Adaptable**: Easy to retrain with new data.\n",
        "\n",
        "These make it an excellent baseline tool for field engineers and project managers.\n"
      ],
      "metadata": {
        "id": "1a0cc342-24ea-4351-bfcd-adb38efa0882"
      }
    },
    {
      "cell_type": "markdown",
      "source": [
        "## ⚠️ 7.6 Limitations of the Model\n",
        "\n",
        "1. **Low Precision**: Generates many false alarms.\n",
        "2. **Class Imbalance**: Few “High” priority tasks may limit the learning depth.\n",
        "3. **Model Simplicity**: Logistic Regression may not capture complex feature interactions.\n",
        "\n",
        "These are common challenges in early-stage models and provide direction for further improvement.\n"
      ],
      "metadata": {
        "id": "f43f66aa-c62c-4224-b7ae-c734b77bfa4f"
      }
    },
    {
      "cell_type": "markdown",
      "source": [
        "## 🔧 7.7 What Can Be Improved Next\n",
        "\n",
        "To boost performance, especially precision, the following strategies can be explored:\n",
        "\n",
        "- **SMOTE or Undersampling**: Balance the dataset by adjusting class ratios.\n",
        "- **Advanced Models**: Try Random Forest, XGBoost, or Neural Networks for better pattern recognition.\n",
        "- **Feature Engineering**: Add context with features like time of day, recurrence history, or project phase.\n",
        "- **Hyperparameter Tuning**: Adjust regularization, thresholds, and solver choices.\n",
        "\n",
        "These steps will help build a more robust model that balances caution and accuracy.\n"
      ],
      "metadata": {
        "id": "929ae5da-3793-4c61-a6f7-3a2cd94aedee"
      }
    },
    {
      "cell_type": "markdown",
      "source": [],
      "metadata": {
        "id": "1f9e32e5-d63a-4255-96e6-89838a444e2a"
      }
    },
    {
      "cell_type": "markdown",
      "source": [],
      "metadata": {
        "id": "XQ5NMG6DOpGh"
      }
    }
  ]
}